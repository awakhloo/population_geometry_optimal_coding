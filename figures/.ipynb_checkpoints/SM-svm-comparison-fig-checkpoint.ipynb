{
 "cells": [
  {
   "cell_type": "code",
   "execution_count": 1,
   "id": "170c9715-7ee5-4e9d-abd4-f6803bdc15c8",
   "metadata": {},
   "outputs": [],
   "source": [
    "import numpy as np\n",
    "import matplotlib.pyplot as plt \n",
    "import seaborn as sns \n",
    "from scipy import stats\n",
    "from scipy.stats import pearsonr \n",
    "outdir = '/mnt/home/awakhloo/ceph/reprod_population_geom_opt_coding/results'\n",
    "figdir = '/mnt/home/awakhloo/ceph/reprod_population_geom_opt_coding/figures/pngs'"
   ]
  },
  {
   "cell_type": "code",
   "execution_count": 2,
   "id": "f0d8375f-781b-4dc3-96d3-05553482bd11",
   "metadata": {},
   "outputs": [],
   "source": [
    "dt=0.5\n",
    "n_subset=500\n",
    "#### LOAD PFC RESULTS\n",
    "arrpf = np.load(f'/mnt/home/awakhloo/ceph/abstraction/results/PFC_results_nu_dt_{dt}.npy',\n",
    "                allow_pickle=True).item() \n",
    "errs_pfc, all_geoms_pfc = arrpf['errs'], arrpf['all_geoms']\n",
    "#### LOAD CA1 REUSLTS \n",
    "arrpf = np.load(f'/mnt/home/awakhloo/ceph/abstraction/results/CA1_results_nu_dt_{dt}.npy',\n",
    "                allow_pickle=True).item() \n",
    "errs_ca1, all_geoms_ca1 = arrpf['errs'], arrpf['all_geoms']\n",
    "Ep, Ec = errs_pfc.mean(0), errs_ca1.mean(0) # avg over neuron shuffs"
   ]
  },
  {
   "cell_type": "code",
   "execution_count": 4,
   "id": "dae27d46-afa8-4156-9c6e-423467e889f6",
   "metadata": {},
   "outputs": [],
   "source": [
    "## LOAD MONKEY RESULTS \n",
    "base='/mnt/home/awakhloo/'\n",
    "path = 'ceph/abstraction/results/majaj_res.npy' \n",
    "res = np.load(base+path, allow_pickle=True).item() \n",
    "all_cls = res['all_classes']\n",
    "glob_p = res['global_pooling'] \n",
    "proj88 = res['proj_88']\n",
    "\n",
    "emppixmed, svcpixmed, thepixmed, geompixmed = all_cls[0]\n",
    "empv4med, svcv4med, thev4med, geomv4med = all_cls[1]\n",
    "empITmed, svcITmed, theITmed, geomITmed = all_cls[2] \n",
    "\n",
    "pemppixmed, psvcpixmed, pthepixmed, pgeompixmed = glob_p[0]\n",
    "pempv4med, psvcv4med, pthev4med, pgeomv4med = glob_p[1]\n",
    "pempITmed, psvcITmed, ptheITmed, pgeomITmed = glob_p[2]\n",
    "\n",
    "emppixmedproj, svcpixmedproj, thepixmedproj, geompixmedproj = proj88[0]\n",
    "empITmedproj, svcITmedproj, theITmedproj, geomITmedproj = proj88[1]"
   ]
  },
  {
   "cell_type": "code",
   "execution_count": 5,
   "id": "97323d4e-731e-4387-8ac0-7010a2046231",
   "metadata": {},
   "outputs": [],
   "source": [
    "## LOAD MLP RESULTS \n",
    "outdir = '/mnt/home/awakhloo/ceph/abstraction/data/mlp_exps_P_500000_nonlin_relu_alpha_0.2' \n",
    "res = np.load(outdir + '/eg_geom_results.npy', allow_pickle=True).item()\n",
    "rand_layer_names, errs_the_rand, errs_emp_rand, geoms_rand , \\\n",
    "trained_layer_names, errs_the_train, errs_emp_train, geoms_train, \\\n",
    "val_losses, train_losses, svm_rand, svm_train, \\\n",
    "derrs_t, derrs_e, dgeoms, ps, dsvm = res.values()\n",
    "cmap = plt.get_cmap('YlGnBu')([0.6,0.8])\n",
    "crand = cmap[0] \n",
    "ctrain = cmap[1] "
   ]
  },
  {
   "cell_type": "code",
   "execution_count": 6,
   "id": "7ad3d500-b009-4b26-a4f2-6dbebb1a64ac",
   "metadata": {},
   "outputs": [],
   "source": [
    "## LOAD POSE NETWORK RESULTS\n",
    "pth = '/mnt/home/awakhloo/ceph/abstraction/results/pose_svm.pkl'\n",
    "pth2 = '/mnt/home/awakhloo/ceph/abstraction/results/pose_svm_S.pkl'\n",
    "rr = np.load(pth, allow_pickle=True)\n",
    "rr2 = np.load(pth2,allow_pickle=True)\n",
    "pose_svm = rr2['Egs_svm'].mean(1)\n",
    "pose_eg  = rr['theory_hebb_Egs'].mean(1)"
   ]
  },
  {
   "cell_type": "code",
   "execution_count": 7,
   "id": "7b1cb002-b653-4509-ae42-cf595d483cc3",
   "metadata": {},
   "outputs": [],
   "source": [
    "def make_plot(ax,title,errs, fontsize, color,axlabel): \n",
    "    svm, eg = errs \n",
    "    ax.set_title(title, fontsize=fontsize) \n",
    "    sns.regplot(x=eg,\n",
    "                y=svm, \n",
    "                color=color,\n",
    "               truncate=False,\n",
    "               ax=ax) \n",
    "    r2 = round(stats.pearsonr(eg,svm)[0]**2,3)\n",
    "    ax.text(0.625, .1, '$r^2$ = ' + str(r2), transform=ax.transAxes, \n",
    "            fontsize=fn*2/3)\n",
    "    ax.text(-0.05, 1.15, axlabel, transform=ax.transAxes, \n",
    "            fontsize=fn, va='top', ha='left', fontweight='bold')\n",
    "    ax.set_xlabel(\"Hebbian readout\", fontsize=fn) \n",
    "    ax.set_ylabel(\"linear SVC\", fontsize=fn)\n",
    "    \n",
    "    "
   ]
  },
  {
   "cell_type": "code",
   "execution_count": null,
   "id": "d2f58aea-944b-469d-a379-18150a97d221",
   "metadata": {},
   "outputs": [],
   "source": [
    "fn =14 \n",
    "fig, axs = plt.subplots(2,4,figsize=(12,6))\n",
    "titles = ['random MLP', \n",
    "          'trained MLP', \n",
    "          'PFC', \n",
    "          'CA1', \n",
    "          'pixels', \n",
    "          'V4', \n",
    "          'IT', \n",
    "          'pose network'] \n",
    "dpoints = [[svm_rand[:,0], errs_emp_rand[:,0]],\n",
    "           [svm_train[:,0], errs_emp_train[:,0]],\n",
    "            [Ep[...,3].reshape(-1), Ep[...,2].reshape(-1)], # flatten across animal x num training samples dims \n",
    "           [Ec[...,3].reshape(-1), Ec[...,2].reshape(-1)],\n",
    "            [svcpixmed.mean(1).reshape(-1),  thepixmed.reshape(-1)],\n",
    "        [svcv4med.mean(1).reshape(-1),  thev4med.reshape(-1)], \n",
    "        [svcITmed.mean(1).reshape(-1), theITmed.reshape(-1)], \n",
    "            [pose_svm, pose_eg]]\n",
    "cs = [crand, ctrain, 'slategrey', 'salmon', \n",
    "      'grey', 'blue', 'purple', 'pink']\n",
    "axlabels = ['A', 'B', 'C', 'D', 'E', 'F', 'G','H']\n",
    "for i, ax in enumerate(axs.flat): \n",
    "    make_plot(ax, titles[i], dpoints[i], fontsize=fn, color=cs[i],\n",
    "             axlabel=axlabels[i])\n",
    "    \n",
    "plt.tight_layout() \n",
    "fig.savefig(figdir+'/sm_SVM_fig.pdf', \n",
    "            dpi=300) "
   ]
  },
  {
   "cell_type": "code",
   "execution_count": null,
   "id": "34aef347-c38f-4d78-9326-14abce984afe",
   "metadata": {},
   "outputs": [],
   "source": []
  }
 ],
 "metadata": {
  "kernelspec": {
   "display_name": "new_reprod_abstr",
   "language": "python",
   "name": "new_reprod_abstr"
  },
  "language_info": {
   "codemirror_mode": {
    "name": "ipython",
    "version": 3
   },
   "file_extension": ".py",
   "mimetype": "text/x-python",
   "name": "python",
   "nbconvert_exporter": "python",
   "pygments_lexer": "ipython3",
   "version": "3.11.13"
  }
 },
 "nbformat": 4,
 "nbformat_minor": 5
}
